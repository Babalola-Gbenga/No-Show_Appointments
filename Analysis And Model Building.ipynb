{
 "cells": [
  {
   "cell_type": "markdown",
   "id": "2ee2edf5",
   "metadata": {},
   "source": [
    "### Project: No Show Appointments Data¶\n",
    "## Table of Contents\n",
    "<ul>\n",
    "<li><a href=\"#intro\">Introduction</a></li>\n",
    "<li><a href=\"#wrangling\">Data Wrangling</a></li>\n",
    "<li><a href=\"#eda\">Exploratory Data Analysis</a></li>\n",
    "<li><a href=\"#conclusions\">Conclusions</a></li>\n",
    "<li><a href=\"#Model\">Model Building</a></li>\n",
    "</ul>"
   ]
  },
  {
   "cell_type": "markdown",
   "id": "62efb965",
   "metadata": {},
   "source": [
    "<a id='intro'></a>\n",
    "## Introduction\n",
    "- The selected dataset is the No show appointments dataset which contains data on patients appointment at the hospital and variables that might have influenced why these patients show up for their medical appointments or not\n",
    "- The data also contains variables that can potentially be used to predict whether a patient will be present for an appointment or otherwise\n",
    "- The dependent variable is the no-show column and will be analyzed in relation with other columns\n"
   ]
  },
  {
   "cell_type": "markdown",
   "id": "601489e1",
   "metadata": {},
   "source": [
    "## QUESTIONS\n",
    "1. which gender shows up for their medical appointments more: Males or Females\n",
    "2. Does the difference between the scheduled day and appointment day influence if a patient will show up for their appointment or Not?\n",
    "3. Does receiving SMS messages bring about more attendance to medical appointments?\n",
    "4. Which age range come for their appointments the most?\n",
    "- Younger people(<=40years)?\n",
    "- Older people(>40years)?\n",
    "5. Does being placed on scholarship encourage attendance to medical appointments?\n"
   ]
  },
  {
   "cell_type": "code",
   "execution_count": 2,
   "id": "68d2b7f2",
   "metadata": {},
   "outputs": [],
   "source": [
    "# importing the neccesary packages for my analysis\n",
    "import pandas as pd\n",
    "import matplotlib.pyplot as plt\n",
    "import numpy as np\n",
    "import seaborn as sns\n",
    "%matplotlib inline\n",
    "from sklearn.model_selection import train_test_split\n",
    "from sklearn.linear_model import LogisticRegression\n",
    "from sklearn.metrics import confusion_matrix\n",
    "import pickle\n",
    "import requests\n",
    "import json\n"
   ]
  },
  {
   "cell_type": "markdown",
   "id": "78ba4143",
   "metadata": {},
   "source": [
    "<a id='wrangling'></a>\n",
    "## Data Wrangling\n",
    "\n",
    "> In this section, I will load the data and check for the structure and properties of the data\n"
   ]
  },
  {
   "cell_type": "markdown",
   "id": "0fefb309",
   "metadata": {},
   "source": [
    "### General Properties"
   ]
  },
  {
   "cell_type": "code",
   "execution_count": 3,
   "id": "98bcebf4",
   "metadata": {},
   "outputs": [
    {
     "data": {
      "text/html": [
       "<div>\n",
       "<style scoped>\n",
       "    .dataframe tbody tr th:only-of-type {\n",
       "        vertical-align: middle;\n",
       "    }\n",
       "\n",
       "    .dataframe tbody tr th {\n",
       "        vertical-align: top;\n",
       "    }\n",
       "\n",
       "    .dataframe thead th {\n",
       "        text-align: right;\n",
       "    }\n",
       "</style>\n",
       "<table border=\"1\" class=\"dataframe\">\n",
       "  <thead>\n",
       "    <tr style=\"text-align: right;\">\n",
       "      <th></th>\n",
       "      <th>PatientId</th>\n",
       "      <th>AppointmentID</th>\n",
       "      <th>Gender</th>\n",
       "      <th>ScheduledDay</th>\n",
       "      <th>AppointmentDay</th>\n",
       "      <th>Age</th>\n",
       "      <th>Neighbourhood</th>\n",
       "      <th>Scholarship</th>\n",
       "      <th>Hipertension</th>\n",
       "      <th>Diabetes</th>\n",
       "      <th>Alcoholism</th>\n",
       "      <th>Handcap</th>\n",
       "      <th>SMS_received</th>\n",
       "      <th>No-show</th>\n",
       "    </tr>\n",
       "  </thead>\n",
       "  <tbody>\n",
       "    <tr>\n",
       "      <th>0</th>\n",
       "      <td>2.987250e+13</td>\n",
       "      <td>5642903</td>\n",
       "      <td>F</td>\n",
       "      <td>2016-04-29T18:38:08Z</td>\n",
       "      <td>2016-04-29T00:00:00Z</td>\n",
       "      <td>62</td>\n",
       "      <td>JARDIM DA PENHA</td>\n",
       "      <td>0</td>\n",
       "      <td>1</td>\n",
       "      <td>0</td>\n",
       "      <td>0</td>\n",
       "      <td>0</td>\n",
       "      <td>0</td>\n",
       "      <td>No</td>\n",
       "    </tr>\n",
       "    <tr>\n",
       "      <th>1</th>\n",
       "      <td>5.589978e+14</td>\n",
       "      <td>5642503</td>\n",
       "      <td>M</td>\n",
       "      <td>2016-04-29T16:08:27Z</td>\n",
       "      <td>2016-04-29T00:00:00Z</td>\n",
       "      <td>56</td>\n",
       "      <td>JARDIM DA PENHA</td>\n",
       "      <td>0</td>\n",
       "      <td>0</td>\n",
       "      <td>0</td>\n",
       "      <td>0</td>\n",
       "      <td>0</td>\n",
       "      <td>0</td>\n",
       "      <td>No</td>\n",
       "    </tr>\n",
       "    <tr>\n",
       "      <th>2</th>\n",
       "      <td>4.262962e+12</td>\n",
       "      <td>5642549</td>\n",
       "      <td>F</td>\n",
       "      <td>2016-04-29T16:19:04Z</td>\n",
       "      <td>2016-04-29T00:00:00Z</td>\n",
       "      <td>62</td>\n",
       "      <td>MATA DA PRAIA</td>\n",
       "      <td>0</td>\n",
       "      <td>0</td>\n",
       "      <td>0</td>\n",
       "      <td>0</td>\n",
       "      <td>0</td>\n",
       "      <td>0</td>\n",
       "      <td>No</td>\n",
       "    </tr>\n",
       "    <tr>\n",
       "      <th>3</th>\n",
       "      <td>8.679512e+11</td>\n",
       "      <td>5642828</td>\n",
       "      <td>F</td>\n",
       "      <td>2016-04-29T17:29:31Z</td>\n",
       "      <td>2016-04-29T00:00:00Z</td>\n",
       "      <td>8</td>\n",
       "      <td>PONTAL DE CAMBURI</td>\n",
       "      <td>0</td>\n",
       "      <td>0</td>\n",
       "      <td>0</td>\n",
       "      <td>0</td>\n",
       "      <td>0</td>\n",
       "      <td>0</td>\n",
       "      <td>No</td>\n",
       "    </tr>\n",
       "    <tr>\n",
       "      <th>4</th>\n",
       "      <td>8.841186e+12</td>\n",
       "      <td>5642494</td>\n",
       "      <td>F</td>\n",
       "      <td>2016-04-29T16:07:23Z</td>\n",
       "      <td>2016-04-29T00:00:00Z</td>\n",
       "      <td>56</td>\n",
       "      <td>JARDIM DA PENHA</td>\n",
       "      <td>0</td>\n",
       "      <td>1</td>\n",
       "      <td>1</td>\n",
       "      <td>0</td>\n",
       "      <td>0</td>\n",
       "      <td>0</td>\n",
       "      <td>No</td>\n",
       "    </tr>\n",
       "  </tbody>\n",
       "</table>\n",
       "</div>"
      ],
      "text/plain": [
       "      PatientId  AppointmentID Gender          ScheduledDay  \\\n",
       "0  2.987250e+13        5642903      F  2016-04-29T18:38:08Z   \n",
       "1  5.589978e+14        5642503      M  2016-04-29T16:08:27Z   \n",
       "2  4.262962e+12        5642549      F  2016-04-29T16:19:04Z   \n",
       "3  8.679512e+11        5642828      F  2016-04-29T17:29:31Z   \n",
       "4  8.841186e+12        5642494      F  2016-04-29T16:07:23Z   \n",
       "\n",
       "         AppointmentDay  Age      Neighbourhood  Scholarship  Hipertension  \\\n",
       "0  2016-04-29T00:00:00Z   62    JARDIM DA PENHA            0             1   \n",
       "1  2016-04-29T00:00:00Z   56    JARDIM DA PENHA            0             0   \n",
       "2  2016-04-29T00:00:00Z   62      MATA DA PRAIA            0             0   \n",
       "3  2016-04-29T00:00:00Z    8  PONTAL DE CAMBURI            0             0   \n",
       "4  2016-04-29T00:00:00Z   56    JARDIM DA PENHA            0             1   \n",
       "\n",
       "   Diabetes  Alcoholism  Handcap  SMS_received No-show  \n",
       "0         0           0        0             0      No  \n",
       "1         0           0        0             0      No  \n",
       "2         0           0        0             0      No  \n",
       "3         0           0        0             0      No  \n",
       "4         1           0        0             0      No  "
      ]
     },
     "execution_count": 3,
     "metadata": {},
     "output_type": "execute_result"
    }
   ],
   "source": [
    "# loading and performing initial inspection of data\n",
    "df= pd.read_csv('noshowappointments.csv')\n",
    "df.head(5)"
   ]
  },
  {
   "cell_type": "code",
   "execution_count": 4,
   "id": "7c9b102d",
   "metadata": {},
   "outputs": [
    {
     "data": {
      "text/html": [
       "<div>\n",
       "<style scoped>\n",
       "    .dataframe tbody tr th:only-of-type {\n",
       "        vertical-align: middle;\n",
       "    }\n",
       "\n",
       "    .dataframe tbody tr th {\n",
       "        vertical-align: top;\n",
       "    }\n",
       "\n",
       "    .dataframe thead th {\n",
       "        text-align: right;\n",
       "    }\n",
       "</style>\n",
       "<table border=\"1\" class=\"dataframe\">\n",
       "  <thead>\n",
       "    <tr style=\"text-align: right;\">\n",
       "      <th></th>\n",
       "      <th>PatientId</th>\n",
       "      <th>AppointmentID</th>\n",
       "      <th>Gender</th>\n",
       "      <th>ScheduledDay</th>\n",
       "      <th>AppointmentDay</th>\n",
       "      <th>Age</th>\n",
       "      <th>Neighbourhood</th>\n",
       "      <th>Scholarship</th>\n",
       "      <th>Hipertension</th>\n",
       "      <th>Diabetes</th>\n",
       "      <th>Alcoholism</th>\n",
       "      <th>Handcap</th>\n",
       "      <th>SMS_received</th>\n",
       "      <th>No-show</th>\n",
       "    </tr>\n",
       "  </thead>\n",
       "  <tbody>\n",
       "    <tr>\n",
       "      <th>110517</th>\n",
       "      <td>5.574942e+12</td>\n",
       "      <td>5780122</td>\n",
       "      <td>F</td>\n",
       "      <td>2016-06-07T07:38:34Z</td>\n",
       "      <td>2016-06-07T00:00:00Z</td>\n",
       "      <td>19</td>\n",
       "      <td>MARIA ORTIZ</td>\n",
       "      <td>0</td>\n",
       "      <td>0</td>\n",
       "      <td>0</td>\n",
       "      <td>0</td>\n",
       "      <td>0</td>\n",
       "      <td>0</td>\n",
       "      <td>No</td>\n",
       "    </tr>\n",
       "    <tr>\n",
       "      <th>110518</th>\n",
       "      <td>7.263315e+13</td>\n",
       "      <td>5630375</td>\n",
       "      <td>F</td>\n",
       "      <td>2016-04-27T15:15:06Z</td>\n",
       "      <td>2016-06-07T00:00:00Z</td>\n",
       "      <td>50</td>\n",
       "      <td>MARIA ORTIZ</td>\n",
       "      <td>0</td>\n",
       "      <td>0</td>\n",
       "      <td>0</td>\n",
       "      <td>0</td>\n",
       "      <td>0</td>\n",
       "      <td>1</td>\n",
       "      <td>No</td>\n",
       "    </tr>\n",
       "    <tr>\n",
       "      <th>110519</th>\n",
       "      <td>6.542388e+13</td>\n",
       "      <td>5630447</td>\n",
       "      <td>F</td>\n",
       "      <td>2016-04-27T15:23:14Z</td>\n",
       "      <td>2016-06-07T00:00:00Z</td>\n",
       "      <td>22</td>\n",
       "      <td>MARIA ORTIZ</td>\n",
       "      <td>0</td>\n",
       "      <td>0</td>\n",
       "      <td>0</td>\n",
       "      <td>0</td>\n",
       "      <td>0</td>\n",
       "      <td>1</td>\n",
       "      <td>No</td>\n",
       "    </tr>\n",
       "    <tr>\n",
       "      <th>110520</th>\n",
       "      <td>9.969977e+14</td>\n",
       "      <td>5650534</td>\n",
       "      <td>F</td>\n",
       "      <td>2016-05-03T07:51:47Z</td>\n",
       "      <td>2016-06-07T00:00:00Z</td>\n",
       "      <td>42</td>\n",
       "      <td>MARIA ORTIZ</td>\n",
       "      <td>0</td>\n",
       "      <td>0</td>\n",
       "      <td>0</td>\n",
       "      <td>0</td>\n",
       "      <td>0</td>\n",
       "      <td>1</td>\n",
       "      <td>No</td>\n",
       "    </tr>\n",
       "    <tr>\n",
       "      <th>110521</th>\n",
       "      <td>3.635534e+13</td>\n",
       "      <td>5651072</td>\n",
       "      <td>F</td>\n",
       "      <td>2016-05-03T08:23:40Z</td>\n",
       "      <td>2016-06-07T00:00:00Z</td>\n",
       "      <td>53</td>\n",
       "      <td>MARIA ORTIZ</td>\n",
       "      <td>0</td>\n",
       "      <td>0</td>\n",
       "      <td>0</td>\n",
       "      <td>0</td>\n",
       "      <td>0</td>\n",
       "      <td>1</td>\n",
       "      <td>No</td>\n",
       "    </tr>\n",
       "    <tr>\n",
       "      <th>110522</th>\n",
       "      <td>2.572134e+12</td>\n",
       "      <td>5651768</td>\n",
       "      <td>F</td>\n",
       "      <td>2016-05-03T09:15:35Z</td>\n",
       "      <td>2016-06-07T00:00:00Z</td>\n",
       "      <td>56</td>\n",
       "      <td>MARIA ORTIZ</td>\n",
       "      <td>0</td>\n",
       "      <td>0</td>\n",
       "      <td>0</td>\n",
       "      <td>0</td>\n",
       "      <td>0</td>\n",
       "      <td>1</td>\n",
       "      <td>No</td>\n",
       "    </tr>\n",
       "    <tr>\n",
       "      <th>110523</th>\n",
       "      <td>3.596266e+12</td>\n",
       "      <td>5650093</td>\n",
       "      <td>F</td>\n",
       "      <td>2016-05-03T07:27:33Z</td>\n",
       "      <td>2016-06-07T00:00:00Z</td>\n",
       "      <td>51</td>\n",
       "      <td>MARIA ORTIZ</td>\n",
       "      <td>0</td>\n",
       "      <td>0</td>\n",
       "      <td>0</td>\n",
       "      <td>0</td>\n",
       "      <td>0</td>\n",
       "      <td>1</td>\n",
       "      <td>No</td>\n",
       "    </tr>\n",
       "    <tr>\n",
       "      <th>110524</th>\n",
       "      <td>1.557663e+13</td>\n",
       "      <td>5630692</td>\n",
       "      <td>F</td>\n",
       "      <td>2016-04-27T16:03:52Z</td>\n",
       "      <td>2016-06-07T00:00:00Z</td>\n",
       "      <td>21</td>\n",
       "      <td>MARIA ORTIZ</td>\n",
       "      <td>0</td>\n",
       "      <td>0</td>\n",
       "      <td>0</td>\n",
       "      <td>0</td>\n",
       "      <td>0</td>\n",
       "      <td>1</td>\n",
       "      <td>No</td>\n",
       "    </tr>\n",
       "    <tr>\n",
       "      <th>110525</th>\n",
       "      <td>9.213493e+13</td>\n",
       "      <td>5630323</td>\n",
       "      <td>F</td>\n",
       "      <td>2016-04-27T15:09:23Z</td>\n",
       "      <td>2016-06-07T00:00:00Z</td>\n",
       "      <td>38</td>\n",
       "      <td>MARIA ORTIZ</td>\n",
       "      <td>0</td>\n",
       "      <td>0</td>\n",
       "      <td>0</td>\n",
       "      <td>0</td>\n",
       "      <td>0</td>\n",
       "      <td>1</td>\n",
       "      <td>No</td>\n",
       "    </tr>\n",
       "    <tr>\n",
       "      <th>110526</th>\n",
       "      <td>3.775115e+14</td>\n",
       "      <td>5629448</td>\n",
       "      <td>F</td>\n",
       "      <td>2016-04-27T13:30:56Z</td>\n",
       "      <td>2016-06-07T00:00:00Z</td>\n",
       "      <td>54</td>\n",
       "      <td>MARIA ORTIZ</td>\n",
       "      <td>0</td>\n",
       "      <td>0</td>\n",
       "      <td>0</td>\n",
       "      <td>0</td>\n",
       "      <td>0</td>\n",
       "      <td>1</td>\n",
       "      <td>No</td>\n",
       "    </tr>\n",
       "  </tbody>\n",
       "</table>\n",
       "</div>"
      ],
      "text/plain": [
       "           PatientId  AppointmentID Gender          ScheduledDay  \\\n",
       "110517  5.574942e+12        5780122      F  2016-06-07T07:38:34Z   \n",
       "110518  7.263315e+13        5630375      F  2016-04-27T15:15:06Z   \n",
       "110519  6.542388e+13        5630447      F  2016-04-27T15:23:14Z   \n",
       "110520  9.969977e+14        5650534      F  2016-05-03T07:51:47Z   \n",
       "110521  3.635534e+13        5651072      F  2016-05-03T08:23:40Z   \n",
       "110522  2.572134e+12        5651768      F  2016-05-03T09:15:35Z   \n",
       "110523  3.596266e+12        5650093      F  2016-05-03T07:27:33Z   \n",
       "110524  1.557663e+13        5630692      F  2016-04-27T16:03:52Z   \n",
       "110525  9.213493e+13        5630323      F  2016-04-27T15:09:23Z   \n",
       "110526  3.775115e+14        5629448      F  2016-04-27T13:30:56Z   \n",
       "\n",
       "              AppointmentDay  Age Neighbourhood  Scholarship  Hipertension  \\\n",
       "110517  2016-06-07T00:00:00Z   19   MARIA ORTIZ            0             0   \n",
       "110518  2016-06-07T00:00:00Z   50   MARIA ORTIZ            0             0   \n",
       "110519  2016-06-07T00:00:00Z   22   MARIA ORTIZ            0             0   \n",
       "110520  2016-06-07T00:00:00Z   42   MARIA ORTIZ            0             0   \n",
       "110521  2016-06-07T00:00:00Z   53   MARIA ORTIZ            0             0   \n",
       "110522  2016-06-07T00:00:00Z   56   MARIA ORTIZ            0             0   \n",
       "110523  2016-06-07T00:00:00Z   51   MARIA ORTIZ            0             0   \n",
       "110524  2016-06-07T00:00:00Z   21   MARIA ORTIZ            0             0   \n",
       "110525  2016-06-07T00:00:00Z   38   MARIA ORTIZ            0             0   \n",
       "110526  2016-06-07T00:00:00Z   54   MARIA ORTIZ            0             0   \n",
       "\n",
       "        Diabetes  Alcoholism  Handcap  SMS_received No-show  \n",
       "110517         0           0        0             0      No  \n",
       "110518         0           0        0             1      No  \n",
       "110519         0           0        0             1      No  \n",
       "110520         0           0        0             1      No  \n",
       "110521         0           0        0             1      No  \n",
       "110522         0           0        0             1      No  \n",
       "110523         0           0        0             1      No  \n",
       "110524         0           0        0             1      No  \n",
       "110525         0           0        0             1      No  \n",
       "110526         0           0        0             1      No  "
      ]
     },
     "execution_count": 4,
     "metadata": {},
     "output_type": "execute_result"
    }
   ],
   "source": [
    "#checking the tail to have a more comprehensive view of the dateset\n",
    "df.tail(10)"
   ]
  },
  {
   "cell_type": "code",
   "execution_count": 5,
   "id": "a3bcaea7",
   "metadata": {},
   "outputs": [
    {
     "data": {
      "text/plain": [
       "(110527, 14)"
      ]
     },
     "execution_count": 5,
     "metadata": {},
     "output_type": "execute_result"
    }
   ],
   "source": [
    "df.shape"
   ]
  },
  {
   "cell_type": "code",
   "execution_count": 6,
   "id": "0f418f17",
   "metadata": {},
   "outputs": [
    {
     "name": "stdout",
     "output_type": "stream",
     "text": [
      "<class 'pandas.core.frame.DataFrame'>\n",
      "RangeIndex: 110527 entries, 0 to 110526\n",
      "Data columns (total 14 columns):\n",
      " #   Column          Non-Null Count   Dtype  \n",
      "---  ------          --------------   -----  \n",
      " 0   PatientId       110527 non-null  float64\n",
      " 1   AppointmentID   110527 non-null  int64  \n",
      " 2   Gender          110527 non-null  object \n",
      " 3   ScheduledDay    110527 non-null  object \n",
      " 4   AppointmentDay  110527 non-null  object \n",
      " 5   Age             110527 non-null  int64  \n",
      " 6   Neighbourhood   110527 non-null  object \n",
      " 7   Scholarship     110527 non-null  int64  \n",
      " 8   Hipertension    110527 non-null  int64  \n",
      " 9   Diabetes        110527 non-null  int64  \n",
      " 10  Alcoholism      110527 non-null  int64  \n",
      " 11  Handcap         110527 non-null  int64  \n",
      " 12  SMS_received    110527 non-null  int64  \n",
      " 13  No-show         110527 non-null  object \n",
      "dtypes: float64(1), int64(8), object(5)\n",
      "memory usage: 11.8+ MB\n"
     ]
    }
   ],
   "source": [
    "#checking for the data types and null values\n",
    "df.info()"
   ]
  },
  {
   "cell_type": "code",
   "execution_count": 7,
   "id": "7fcbeb54",
   "metadata": {},
   "outputs": [
    {
     "data": {
      "text/html": [
       "<div>\n",
       "<style scoped>\n",
       "    .dataframe tbody tr th:only-of-type {\n",
       "        vertical-align: middle;\n",
       "    }\n",
       "\n",
       "    .dataframe tbody tr th {\n",
       "        vertical-align: top;\n",
       "    }\n",
       "\n",
       "    .dataframe thead th {\n",
       "        text-align: right;\n",
       "    }\n",
       "</style>\n",
       "<table border=\"1\" class=\"dataframe\">\n",
       "  <thead>\n",
       "    <tr style=\"text-align: right;\">\n",
       "      <th></th>\n",
       "      <th>PatientId</th>\n",
       "      <th>AppointmentID</th>\n",
       "      <th>Age</th>\n",
       "      <th>Scholarship</th>\n",
       "      <th>Hipertension</th>\n",
       "      <th>Diabetes</th>\n",
       "      <th>Alcoholism</th>\n",
       "      <th>Handcap</th>\n",
       "      <th>SMS_received</th>\n",
       "    </tr>\n",
       "  </thead>\n",
       "  <tbody>\n",
       "    <tr>\n",
       "      <th>count</th>\n",
       "      <td>1.105270e+05</td>\n",
       "      <td>1.105270e+05</td>\n",
       "      <td>110527.000000</td>\n",
       "      <td>110527.000000</td>\n",
       "      <td>110527.000000</td>\n",
       "      <td>110527.000000</td>\n",
       "      <td>110527.000000</td>\n",
       "      <td>110527.000000</td>\n",
       "      <td>110527.000000</td>\n",
       "    </tr>\n",
       "    <tr>\n",
       "      <th>mean</th>\n",
       "      <td>1.474963e+14</td>\n",
       "      <td>5.675305e+06</td>\n",
       "      <td>37.088874</td>\n",
       "      <td>0.098266</td>\n",
       "      <td>0.197246</td>\n",
       "      <td>0.071865</td>\n",
       "      <td>0.030400</td>\n",
       "      <td>0.022248</td>\n",
       "      <td>0.321026</td>\n",
       "    </tr>\n",
       "    <tr>\n",
       "      <th>std</th>\n",
       "      <td>2.560949e+14</td>\n",
       "      <td>7.129575e+04</td>\n",
       "      <td>23.110205</td>\n",
       "      <td>0.297675</td>\n",
       "      <td>0.397921</td>\n",
       "      <td>0.258265</td>\n",
       "      <td>0.171686</td>\n",
       "      <td>0.161543</td>\n",
       "      <td>0.466873</td>\n",
       "    </tr>\n",
       "    <tr>\n",
       "      <th>min</th>\n",
       "      <td>3.921784e+04</td>\n",
       "      <td>5.030230e+06</td>\n",
       "      <td>-1.000000</td>\n",
       "      <td>0.000000</td>\n",
       "      <td>0.000000</td>\n",
       "      <td>0.000000</td>\n",
       "      <td>0.000000</td>\n",
       "      <td>0.000000</td>\n",
       "      <td>0.000000</td>\n",
       "    </tr>\n",
       "    <tr>\n",
       "      <th>25%</th>\n",
       "      <td>4.172614e+12</td>\n",
       "      <td>5.640286e+06</td>\n",
       "      <td>18.000000</td>\n",
       "      <td>0.000000</td>\n",
       "      <td>0.000000</td>\n",
       "      <td>0.000000</td>\n",
       "      <td>0.000000</td>\n",
       "      <td>0.000000</td>\n",
       "      <td>0.000000</td>\n",
       "    </tr>\n",
       "    <tr>\n",
       "      <th>50%</th>\n",
       "      <td>3.173184e+13</td>\n",
       "      <td>5.680573e+06</td>\n",
       "      <td>37.000000</td>\n",
       "      <td>0.000000</td>\n",
       "      <td>0.000000</td>\n",
       "      <td>0.000000</td>\n",
       "      <td>0.000000</td>\n",
       "      <td>0.000000</td>\n",
       "      <td>0.000000</td>\n",
       "    </tr>\n",
       "    <tr>\n",
       "      <th>75%</th>\n",
       "      <td>9.439172e+13</td>\n",
       "      <td>5.725524e+06</td>\n",
       "      <td>55.000000</td>\n",
       "      <td>0.000000</td>\n",
       "      <td>0.000000</td>\n",
       "      <td>0.000000</td>\n",
       "      <td>0.000000</td>\n",
       "      <td>0.000000</td>\n",
       "      <td>1.000000</td>\n",
       "    </tr>\n",
       "    <tr>\n",
       "      <th>max</th>\n",
       "      <td>9.999816e+14</td>\n",
       "      <td>5.790484e+06</td>\n",
       "      <td>115.000000</td>\n",
       "      <td>1.000000</td>\n",
       "      <td>1.000000</td>\n",
       "      <td>1.000000</td>\n",
       "      <td>1.000000</td>\n",
       "      <td>4.000000</td>\n",
       "      <td>1.000000</td>\n",
       "    </tr>\n",
       "  </tbody>\n",
       "</table>\n",
       "</div>"
      ],
      "text/plain": [
       "          PatientId  AppointmentID            Age    Scholarship  \\\n",
       "count  1.105270e+05   1.105270e+05  110527.000000  110527.000000   \n",
       "mean   1.474963e+14   5.675305e+06      37.088874       0.098266   \n",
       "std    2.560949e+14   7.129575e+04      23.110205       0.297675   \n",
       "min    3.921784e+04   5.030230e+06      -1.000000       0.000000   \n",
       "25%    4.172614e+12   5.640286e+06      18.000000       0.000000   \n",
       "50%    3.173184e+13   5.680573e+06      37.000000       0.000000   \n",
       "75%    9.439172e+13   5.725524e+06      55.000000       0.000000   \n",
       "max    9.999816e+14   5.790484e+06     115.000000       1.000000   \n",
       "\n",
       "        Hipertension       Diabetes     Alcoholism        Handcap  \\\n",
       "count  110527.000000  110527.000000  110527.000000  110527.000000   \n",
       "mean        0.197246       0.071865       0.030400       0.022248   \n",
       "std         0.397921       0.258265       0.171686       0.161543   \n",
       "min         0.000000       0.000000       0.000000       0.000000   \n",
       "25%         0.000000       0.000000       0.000000       0.000000   \n",
       "50%         0.000000       0.000000       0.000000       0.000000   \n",
       "75%         0.000000       0.000000       0.000000       0.000000   \n",
       "max         1.000000       1.000000       1.000000       4.000000   \n",
       "\n",
       "        SMS_received  \n",
       "count  110527.000000  \n",
       "mean        0.321026  \n",
       "std         0.466873  \n",
       "min         0.000000  \n",
       "25%         0.000000  \n",
       "50%         0.000000  \n",
       "75%         1.000000  \n",
       "max         1.000000  "
      ]
     },
     "execution_count": 7,
     "metadata": {},
     "output_type": "execute_result"
    }
   ],
   "source": [
    "#checking for the statistical properties of the dataset\n",
    "df.describe()"
   ]
  },
  {
   "cell_type": "code",
   "execution_count": 8,
   "id": "8db8ee30",
   "metadata": {},
   "outputs": [
    {
     "data": {
      "text/plain": [
       "0"
      ]
     },
     "execution_count": 8,
     "metadata": {},
     "output_type": "execute_result"
    }
   ],
   "source": [
    "#checking for duplicates\n",
    "sum(df.duplicated())"
   ]
  },
  {
   "cell_type": "markdown",
   "id": "49a51e1e",
   "metadata": {},
   "source": [
    "## findings so far\n",
    "- The table has 110527 rows of data and 12 columns\n",
    "- There is no duplicate or null values\n",
    "- There are some columns that are not properly formatted"
   ]
  },
  {
   "cell_type": "markdown",
   "id": "9acfc967",
   "metadata": {},
   "source": [
    "### Data Cleaning \n",
    "\n",
    "The dataset has no null or duplicate values. However,\n",
    "- the patientId and AppointmentId are not useful for my analysis so I will remove them\n",
    "- the casing of the column headers are not consistent so I will convert them to lowercase\n",
    "- some columns are not correctly spelt and will be renamed\n",
    "- the dates are not properly formatted\n",
    "- the no-show and the gender columns will be converted to binary for easier analysis\n"
   ]
  },
  {
   "cell_type": "code",
   "execution_count": 9,
   "id": "c8f713fa",
   "metadata": {},
   "outputs": [],
   "source": [
    "#removing columns that are not important to my analysis\n",
    "df.drop(columns= ['PatientId', 'AppointmentID'], inplace= True)\n"
   ]
  },
  {
   "cell_type": "code",
   "execution_count": 10,
   "id": "10b7f743",
   "metadata": {},
   "outputs": [
    {
     "name": "stdout",
     "output_type": "stream",
     "text": [
      "<class 'pandas.core.frame.DataFrame'>\n",
      "RangeIndex: 110527 entries, 0 to 110526\n",
      "Data columns (total 12 columns):\n",
      " #   Column          Non-Null Count   Dtype         \n",
      "---  ------          --------------   -----         \n",
      " 0   Gender          110527 non-null  object        \n",
      " 1   ScheduledDay    110527 non-null  datetime64[ns]\n",
      " 2   AppointmentDay  110527 non-null  datetime64[ns]\n",
      " 3   Age             110527 non-null  int64         \n",
      " 4   Neighbourhood   110527 non-null  object        \n",
      " 5   Scholarship     110527 non-null  int64         \n",
      " 6   Hipertension    110527 non-null  int64         \n",
      " 7   Diabetes        110527 non-null  int64         \n",
      " 8   Alcoholism      110527 non-null  int64         \n",
      " 9   Handcap         110527 non-null  int64         \n",
      " 10  SMS_received    110527 non-null  int64         \n",
      " 11  No-show         110527 non-null  object        \n",
      "dtypes: datetime64[ns](2), int64(7), object(3)\n",
      "memory usage: 10.1+ MB\n"
     ]
    }
   ],
   "source": [
    "#converting scheduledday and appointmentday to datetime format\n",
    "df['ScheduledDay']= df['ScheduledDay'].str.split('T', n=0, expand = True).astype('str')\n",
    "df['AppointmentDay']= df['AppointmentDay'].str.split('T', n=0, expand = True).astype('str')\n",
    "df['ScheduledDay']= df['ScheduledDay'].str.split('T', n=0, expand = True).astype('datetime64[ns]')\n",
    "df['AppointmentDay']= df['AppointmentDay'].str.split('T', n=0, expand = True).astype('datetime64[ns]')\n",
    "df\n",
    "\n",
    "df.info()\n"
   ]
  },
  {
   "cell_type": "code",
   "execution_count": 11,
   "id": "bc2efad5",
   "metadata": {},
   "outputs": [
    {
     "data": {
      "text/html": [
       "<div>\n",
       "<style scoped>\n",
       "    .dataframe tbody tr th:only-of-type {\n",
       "        vertical-align: middle;\n",
       "    }\n",
       "\n",
       "    .dataframe tbody tr th {\n",
       "        vertical-align: top;\n",
       "    }\n",
       "\n",
       "    .dataframe thead th {\n",
       "        text-align: right;\n",
       "    }\n",
       "</style>\n",
       "<table border=\"1\" class=\"dataframe\">\n",
       "  <thead>\n",
       "    <tr style=\"text-align: right;\">\n",
       "      <th></th>\n",
       "      <th>gender</th>\n",
       "      <th>scheduledday</th>\n",
       "      <th>appointmentday</th>\n",
       "      <th>age</th>\n",
       "      <th>neighbourhood</th>\n",
       "      <th>scholarship</th>\n",
       "      <th>hipertension</th>\n",
       "      <th>diabetes</th>\n",
       "      <th>alcoholism</th>\n",
       "      <th>handcap</th>\n",
       "      <th>sms_received</th>\n",
       "      <th>no-show</th>\n",
       "    </tr>\n",
       "  </thead>\n",
       "  <tbody>\n",
       "    <tr>\n",
       "      <th>0</th>\n",
       "      <td>F</td>\n",
       "      <td>2016-04-29</td>\n",
       "      <td>2016-04-29</td>\n",
       "      <td>62</td>\n",
       "      <td>JARDIM DA PENHA</td>\n",
       "      <td>0</td>\n",
       "      <td>1</td>\n",
       "      <td>0</td>\n",
       "      <td>0</td>\n",
       "      <td>0</td>\n",
       "      <td>0</td>\n",
       "      <td>No</td>\n",
       "    </tr>\n",
       "  </tbody>\n",
       "</table>\n",
       "</div>"
      ],
      "text/plain": [
       "  gender scheduledday appointmentday  age    neighbourhood  scholarship  \\\n",
       "0      F   2016-04-29     2016-04-29   62  JARDIM DA PENHA            0   \n",
       "\n",
       "   hipertension  diabetes  alcoholism  handcap  sms_received no-show  \n",
       "0             1         0           0        0             0      No  "
      ]
     },
     "execution_count": 11,
     "metadata": {},
     "output_type": "execute_result"
    }
   ],
   "source": [
    "#converting all headers to lowercase to make it easier to work with my data and ensure some level of consistency\n",
    "df.columns= df.columns.str.lower()\n",
    "df.head(1)\n"
   ]
  },
  {
   "cell_type": "code",
   "execution_count": 12,
   "id": "44a2c0e6",
   "metadata": {},
   "outputs": [
    {
     "data": {
      "text/html": [
       "<div>\n",
       "<style scoped>\n",
       "    .dataframe tbody tr th:only-of-type {\n",
       "        vertical-align: middle;\n",
       "    }\n",
       "\n",
       "    .dataframe tbody tr th {\n",
       "        vertical-align: top;\n",
       "    }\n",
       "\n",
       "    .dataframe thead th {\n",
       "        text-align: right;\n",
       "    }\n",
       "</style>\n",
       "<table border=\"1\" class=\"dataframe\">\n",
       "  <thead>\n",
       "    <tr style=\"text-align: right;\">\n",
       "      <th></th>\n",
       "      <th>gender</th>\n",
       "      <th>scheduledday</th>\n",
       "      <th>appointmentday</th>\n",
       "      <th>age</th>\n",
       "      <th>neighbourhood</th>\n",
       "      <th>scholarship</th>\n",
       "      <th>hypertension</th>\n",
       "      <th>diabetes</th>\n",
       "      <th>alcoholism</th>\n",
       "      <th>handicap</th>\n",
       "      <th>sms_received</th>\n",
       "      <th>present</th>\n",
       "    </tr>\n",
       "  </thead>\n",
       "  <tbody>\n",
       "    <tr>\n",
       "      <th>0</th>\n",
       "      <td>F</td>\n",
       "      <td>2016-04-29</td>\n",
       "      <td>2016-04-29</td>\n",
       "      <td>62</td>\n",
       "      <td>JARDIM DA PENHA</td>\n",
       "      <td>0</td>\n",
       "      <td>1</td>\n",
       "      <td>0</td>\n",
       "      <td>0</td>\n",
       "      <td>0</td>\n",
       "      <td>0</td>\n",
       "      <td>No</td>\n",
       "    </tr>\n",
       "  </tbody>\n",
       "</table>\n",
       "</div>"
      ],
      "text/plain": [
       "  gender scheduledday appointmentday  age    neighbourhood  scholarship  \\\n",
       "0      F   2016-04-29     2016-04-29   62  JARDIM DA PENHA            0   \n",
       "\n",
       "   hypertension  diabetes  alcoholism  handicap  sms_received present  \n",
       "0             1         0           0         0             0      No  "
      ]
     },
     "execution_count": 12,
     "metadata": {},
     "output_type": "execute_result"
    }
   ],
   "source": [
    "#renaming columns that are not correctly spelt: hipertension and handcap \n",
    "# I will also rename no-show to present as it is more convenient \n",
    "df.rename(columns= {'hipertension': 'hypertension', 'handcap': 'handicap', 'no-show': 'present'}, inplace=True)\n",
    "df.head(1)"
   ]
  },
  {
   "cell_type": "code",
   "execution_count": 13,
   "id": "0d79a371",
   "metadata": {},
   "outputs": [
    {
     "data": {
      "text/plain": [
       "0    88208\n",
       "1    22319\n",
       "Name: present, dtype: int64"
      ]
     },
     "execution_count": 13,
     "metadata": {},
     "output_type": "execute_result"
    }
   ],
   "source": [
    "# converting the present column to binary to aide better manipulation of data.\n",
    "# 1 implies Yes meaning the patient was present\n",
    "# while 0 implies No that is the patient was absent for the appointment\n",
    "df['present'].replace('No',0, inplace=True)\n",
    "df['present'].replace('Yes',1, inplace=True)\n",
    "df['present'].value_counts()"
   ]
  },
  {
   "cell_type": "code",
   "execution_count": 14,
   "id": "a7ad4dae",
   "metadata": {},
   "outputs": [
    {
     "data": {
      "text/plain": [
       "0      3540\n",
       "1      2273\n",
       "52     1746\n",
       "49     1652\n",
       "53     1651\n",
       "       ... \n",
       "98        6\n",
       "115       5\n",
       "100       4\n",
       "102       2\n",
       "99        1\n",
       "Name: age, Length: 103, dtype: int64"
      ]
     },
     "execution_count": 14,
     "metadata": {},
     "output_type": "execute_result"
    }
   ],
   "source": [
    "#The age contains negative values which are less than 1 years old.\n",
    "#I will replace the negative age values to 0 using the numpy.where function \n",
    "df['age']= np.where(df['age']<1, 0,df['age'])\n",
    "df['age'].value_counts()\n"
   ]
  },
  {
   "cell_type": "code",
   "execution_count": 15,
   "id": "b79f342c",
   "metadata": {},
   "outputs": [
    {
     "data": {
      "text/plain": [
       "gender                    object\n",
       "scheduledday      datetime64[ns]\n",
       "appointmentday    datetime64[ns]\n",
       "age                        int64\n",
       "neighbourhood           category\n",
       "scholarship                int64\n",
       "hypertension               int64\n",
       "diabetes                   int64\n",
       "alcoholism                 int64\n",
       "handicap                   int64\n",
       "sms_received               int64\n",
       "present                    int64\n",
       "dtype: object"
      ]
     },
     "execution_count": 15,
     "metadata": {},
     "output_type": "execute_result"
    }
   ],
   "source": [
    "# the neighborhood column is categorical. I will convert it to categorical variable by  encoding it\n",
    "df['neighbourhood']= df['neighbourhood'].astype('category')\n",
    "df.dtypes"
   ]
  },
  {
   "cell_type": "code",
   "execution_count": 16,
   "id": "491d452a",
   "metadata": {},
   "outputs": [],
   "source": [
    "df[\"neighbourhood\"]= df['neighbourhood'].cat.codes"
   ]
  },
  {
   "cell_type": "code",
   "execution_count": 17,
   "id": "3f22c0ea",
   "metadata": {},
   "outputs": [
    {
     "data": {
      "text/html": [
       "<div>\n",
       "<style scoped>\n",
       "    .dataframe tbody tr th:only-of-type {\n",
       "        vertical-align: middle;\n",
       "    }\n",
       "\n",
       "    .dataframe tbody tr th {\n",
       "        vertical-align: top;\n",
       "    }\n",
       "\n",
       "    .dataframe thead th {\n",
       "        text-align: right;\n",
       "    }\n",
       "</style>\n",
       "<table border=\"1\" class=\"dataframe\">\n",
       "  <thead>\n",
       "    <tr style=\"text-align: right;\">\n",
       "      <th></th>\n",
       "      <th>age</th>\n",
       "      <th>neighbourhood</th>\n",
       "      <th>scholarship</th>\n",
       "      <th>hypertension</th>\n",
       "      <th>diabetes</th>\n",
       "      <th>alcoholism</th>\n",
       "      <th>handicap</th>\n",
       "      <th>sms_received</th>\n",
       "      <th>present</th>\n",
       "    </tr>\n",
       "  </thead>\n",
       "  <tbody>\n",
       "    <tr>\n",
       "      <th>count</th>\n",
       "      <td>110527.000000</td>\n",
       "      <td>110527.000000</td>\n",
       "      <td>110527.000000</td>\n",
       "      <td>110527.000000</td>\n",
       "      <td>110527.000000</td>\n",
       "      <td>110527.000000</td>\n",
       "      <td>110527.000000</td>\n",
       "      <td>110527.000000</td>\n",
       "      <td>110527.000000</td>\n",
       "    </tr>\n",
       "    <tr>\n",
       "      <th>mean</th>\n",
       "      <td>37.088883</td>\n",
       "      <td>41.737286</td>\n",
       "      <td>0.098266</td>\n",
       "      <td>0.197246</td>\n",
       "      <td>0.071865</td>\n",
       "      <td>0.030400</td>\n",
       "      <td>0.022248</td>\n",
       "      <td>0.321026</td>\n",
       "      <td>0.201933</td>\n",
       "    </tr>\n",
       "    <tr>\n",
       "      <th>std</th>\n",
       "      <td>23.110190</td>\n",
       "      <td>22.361634</td>\n",
       "      <td>0.297675</td>\n",
       "      <td>0.397921</td>\n",
       "      <td>0.258265</td>\n",
       "      <td>0.171686</td>\n",
       "      <td>0.161543</td>\n",
       "      <td>0.466873</td>\n",
       "      <td>0.401444</td>\n",
       "    </tr>\n",
       "    <tr>\n",
       "      <th>min</th>\n",
       "      <td>0.000000</td>\n",
       "      <td>0.000000</td>\n",
       "      <td>0.000000</td>\n",
       "      <td>0.000000</td>\n",
       "      <td>0.000000</td>\n",
       "      <td>0.000000</td>\n",
       "      <td>0.000000</td>\n",
       "      <td>0.000000</td>\n",
       "      <td>0.000000</td>\n",
       "    </tr>\n",
       "    <tr>\n",
       "      <th>25%</th>\n",
       "      <td>18.000000</td>\n",
       "      <td>26.000000</td>\n",
       "      <td>0.000000</td>\n",
       "      <td>0.000000</td>\n",
       "      <td>0.000000</td>\n",
       "      <td>0.000000</td>\n",
       "      <td>0.000000</td>\n",
       "      <td>0.000000</td>\n",
       "      <td>0.000000</td>\n",
       "    </tr>\n",
       "    <tr>\n",
       "      <th>50%</th>\n",
       "      <td>37.000000</td>\n",
       "      <td>40.000000</td>\n",
       "      <td>0.000000</td>\n",
       "      <td>0.000000</td>\n",
       "      <td>0.000000</td>\n",
       "      <td>0.000000</td>\n",
       "      <td>0.000000</td>\n",
       "      <td>0.000000</td>\n",
       "      <td>0.000000</td>\n",
       "    </tr>\n",
       "    <tr>\n",
       "      <th>75%</th>\n",
       "      <td>55.000000</td>\n",
       "      <td>60.000000</td>\n",
       "      <td>0.000000</td>\n",
       "      <td>0.000000</td>\n",
       "      <td>0.000000</td>\n",
       "      <td>0.000000</td>\n",
       "      <td>0.000000</td>\n",
       "      <td>1.000000</td>\n",
       "      <td>0.000000</td>\n",
       "    </tr>\n",
       "    <tr>\n",
       "      <th>max</th>\n",
       "      <td>115.000000</td>\n",
       "      <td>80.000000</td>\n",
       "      <td>1.000000</td>\n",
       "      <td>1.000000</td>\n",
       "      <td>1.000000</td>\n",
       "      <td>1.000000</td>\n",
       "      <td>4.000000</td>\n",
       "      <td>1.000000</td>\n",
       "      <td>1.000000</td>\n",
       "    </tr>\n",
       "  </tbody>\n",
       "</table>\n",
       "</div>"
      ],
      "text/plain": [
       "                 age  neighbourhood    scholarship   hypertension  \\\n",
       "count  110527.000000  110527.000000  110527.000000  110527.000000   \n",
       "mean       37.088883      41.737286       0.098266       0.197246   \n",
       "std        23.110190      22.361634       0.297675       0.397921   \n",
       "min         0.000000       0.000000       0.000000       0.000000   \n",
       "25%        18.000000      26.000000       0.000000       0.000000   \n",
       "50%        37.000000      40.000000       0.000000       0.000000   \n",
       "75%        55.000000      60.000000       0.000000       0.000000   \n",
       "max       115.000000      80.000000       1.000000       1.000000   \n",
       "\n",
       "            diabetes     alcoholism       handicap   sms_received  \\\n",
       "count  110527.000000  110527.000000  110527.000000  110527.000000   \n",
       "mean        0.071865       0.030400       0.022248       0.321026   \n",
       "std         0.258265       0.171686       0.161543       0.466873   \n",
       "min         0.000000       0.000000       0.000000       0.000000   \n",
       "25%         0.000000       0.000000       0.000000       0.000000   \n",
       "50%         0.000000       0.000000       0.000000       0.000000   \n",
       "75%         0.000000       0.000000       0.000000       1.000000   \n",
       "max         1.000000       1.000000       4.000000       1.000000   \n",
       "\n",
       "             present  \n",
       "count  110527.000000  \n",
       "mean        0.201933  \n",
       "std         0.401444  \n",
       "min         0.000000  \n",
       "25%         0.000000  \n",
       "50%         0.000000  \n",
       "75%         0.000000  \n",
       "max         1.000000  "
      ]
     },
     "execution_count": 17,
     "metadata": {},
     "output_type": "execute_result"
    }
   ],
   "source": [
    "df.describe()"
   ]
  },
  {
   "cell_type": "markdown",
   "id": "71f9d4f4",
   "metadata": {},
   "source": [
    "My data is now clean enough for me to begin my exploratory data analysis"
   ]
  },
  {
   "cell_type": "markdown",
   "id": "9abd20ea",
   "metadata": {},
   "source": [
    "<a id='eda'></a>\n",
    "## Exploratory Data Analysis\n",
    "\n",
    "- Exploring my data to answer questions already specified above\n",
    "- The no show column is being compared against the other variables"
   ]
  },
  {
   "cell_type": "code",
   "execution_count": 18,
   "id": "1d9a2243",
   "metadata": {},
   "outputs": [
    {
     "data": {
      "text/html": [
       "<div>\n",
       "<style scoped>\n",
       "    .dataframe tbody tr th:only-of-type {\n",
       "        vertical-align: middle;\n",
       "    }\n",
       "\n",
       "    .dataframe tbody tr th {\n",
       "        vertical-align: top;\n",
       "    }\n",
       "\n",
       "    .dataframe thead th {\n",
       "        text-align: right;\n",
       "    }\n",
       "</style>\n",
       "<table border=\"1\" class=\"dataframe\">\n",
       "  <thead>\n",
       "    <tr style=\"text-align: right;\">\n",
       "      <th></th>\n",
       "      <th>age</th>\n",
       "      <th>neighbourhood</th>\n",
       "      <th>scholarship</th>\n",
       "      <th>hypertension</th>\n",
       "      <th>diabetes</th>\n",
       "      <th>alcoholism</th>\n",
       "      <th>handicap</th>\n",
       "      <th>sms_received</th>\n",
       "      <th>present</th>\n",
       "    </tr>\n",
       "  </thead>\n",
       "  <tbody>\n",
       "    <tr>\n",
       "      <th>age</th>\n",
       "      <td>1.000000</td>\n",
       "      <td>-0.016358</td>\n",
       "      <td>-0.092457</td>\n",
       "      <td>0.504586</td>\n",
       "      <td>0.292392</td>\n",
       "      <td>0.095811</td>\n",
       "      <td>0.078033</td>\n",
       "      <td>0.012643</td>\n",
       "      <td>-0.060319</td>\n",
       "    </tr>\n",
       "    <tr>\n",
       "      <th>neighbourhood</th>\n",
       "      <td>-0.016358</td>\n",
       "      <td>1.000000</td>\n",
       "      <td>0.006866</td>\n",
       "      <td>0.004323</td>\n",
       "      <td>0.011347</td>\n",
       "      <td>-0.000010</td>\n",
       "      <td>0.010990</td>\n",
       "      <td>0.018269</td>\n",
       "      <td>-0.008962</td>\n",
       "    </tr>\n",
       "    <tr>\n",
       "      <th>scholarship</th>\n",
       "      <td>-0.092457</td>\n",
       "      <td>0.006866</td>\n",
       "      <td>1.000000</td>\n",
       "      <td>-0.019729</td>\n",
       "      <td>-0.024894</td>\n",
       "      <td>0.035022</td>\n",
       "      <td>-0.008586</td>\n",
       "      <td>0.001194</td>\n",
       "      <td>0.029135</td>\n",
       "    </tr>\n",
       "    <tr>\n",
       "      <th>hypertension</th>\n",
       "      <td>0.504586</td>\n",
       "      <td>0.004323</td>\n",
       "      <td>-0.019729</td>\n",
       "      <td>1.000000</td>\n",
       "      <td>0.433086</td>\n",
       "      <td>0.087971</td>\n",
       "      <td>0.080083</td>\n",
       "      <td>-0.006267</td>\n",
       "      <td>-0.035701</td>\n",
       "    </tr>\n",
       "    <tr>\n",
       "      <th>diabetes</th>\n",
       "      <td>0.292392</td>\n",
       "      <td>0.011347</td>\n",
       "      <td>-0.024894</td>\n",
       "      <td>0.433086</td>\n",
       "      <td>1.000000</td>\n",
       "      <td>0.018474</td>\n",
       "      <td>0.057530</td>\n",
       "      <td>-0.014550</td>\n",
       "      <td>-0.015180</td>\n",
       "    </tr>\n",
       "    <tr>\n",
       "      <th>alcoholism</th>\n",
       "      <td>0.095811</td>\n",
       "      <td>-0.000010</td>\n",
       "      <td>0.035022</td>\n",
       "      <td>0.087971</td>\n",
       "      <td>0.018474</td>\n",
       "      <td>1.000000</td>\n",
       "      <td>0.004648</td>\n",
       "      <td>-0.026147</td>\n",
       "      <td>-0.000196</td>\n",
       "    </tr>\n",
       "    <tr>\n",
       "      <th>handicap</th>\n",
       "      <td>0.078033</td>\n",
       "      <td>0.010990</td>\n",
       "      <td>-0.008586</td>\n",
       "      <td>0.080083</td>\n",
       "      <td>0.057530</td>\n",
       "      <td>0.004648</td>\n",
       "      <td>1.000000</td>\n",
       "      <td>-0.024161</td>\n",
       "      <td>-0.006076</td>\n",
       "    </tr>\n",
       "    <tr>\n",
       "      <th>sms_received</th>\n",
       "      <td>0.012643</td>\n",
       "      <td>0.018269</td>\n",
       "      <td>0.001194</td>\n",
       "      <td>-0.006267</td>\n",
       "      <td>-0.014550</td>\n",
       "      <td>-0.026147</td>\n",
       "      <td>-0.024161</td>\n",
       "      <td>1.000000</td>\n",
       "      <td>0.126431</td>\n",
       "    </tr>\n",
       "    <tr>\n",
       "      <th>present</th>\n",
       "      <td>-0.060319</td>\n",
       "      <td>-0.008962</td>\n",
       "      <td>0.029135</td>\n",
       "      <td>-0.035701</td>\n",
       "      <td>-0.015180</td>\n",
       "      <td>-0.000196</td>\n",
       "      <td>-0.006076</td>\n",
       "      <td>0.126431</td>\n",
       "      <td>1.000000</td>\n",
       "    </tr>\n",
       "  </tbody>\n",
       "</table>\n",
       "</div>"
      ],
      "text/plain": [
       "                    age  neighbourhood  scholarship  hypertension  diabetes  \\\n",
       "age            1.000000      -0.016358    -0.092457      0.504586  0.292392   \n",
       "neighbourhood -0.016358       1.000000     0.006866      0.004323  0.011347   \n",
       "scholarship   -0.092457       0.006866     1.000000     -0.019729 -0.024894   \n",
       "hypertension   0.504586       0.004323    -0.019729      1.000000  0.433086   \n",
       "diabetes       0.292392       0.011347    -0.024894      0.433086  1.000000   \n",
       "alcoholism     0.095811      -0.000010     0.035022      0.087971  0.018474   \n",
       "handicap       0.078033       0.010990    -0.008586      0.080083  0.057530   \n",
       "sms_received   0.012643       0.018269     0.001194     -0.006267 -0.014550   \n",
       "present       -0.060319      -0.008962     0.029135     -0.035701 -0.015180   \n",
       "\n",
       "               alcoholism  handicap  sms_received   present  \n",
       "age              0.095811  0.078033      0.012643 -0.060319  \n",
       "neighbourhood   -0.000010  0.010990      0.018269 -0.008962  \n",
       "scholarship      0.035022 -0.008586      0.001194  0.029135  \n",
       "hypertension     0.087971  0.080083     -0.006267 -0.035701  \n",
       "diabetes         0.018474  0.057530     -0.014550 -0.015180  \n",
       "alcoholism       1.000000  0.004648     -0.026147 -0.000196  \n",
       "handicap         0.004648  1.000000     -0.024161 -0.006076  \n",
       "sms_received    -0.026147 -0.024161      1.000000  0.126431  \n",
       "present         -0.000196 -0.006076      0.126431  1.000000  "
      ]
     },
     "execution_count": 18,
     "metadata": {},
     "output_type": "execute_result"
    }
   ],
   "source": [
    "#Exploring the correlation between the different variables in the data\n",
    "df.corr()"
   ]
  },
  {
   "cell_type": "markdown",
   "id": "47121f1b",
   "metadata": {},
   "source": [
    "### Research Question 1: (which gender shows up for their medical appointments more: Males or Females?)\n"
   ]
  },
  {
   "cell_type": "code",
   "execution_count": 19,
   "id": "904a4660",
   "metadata": {},
   "outputs": [
    {
     "data": {
      "text/plain": [
       "gender  present\n",
       "F       0          57246\n",
       "        1          14594\n",
       "M       0          30962\n",
       "        1           7725\n",
       "Name: present, dtype: int64"
      ]
     },
     "execution_count": 19,
     "metadata": {},
     "output_type": "execute_result"
    }
   ],
   "source": [
    "df.groupby('gender')['present'].value_counts()"
   ]
  },
  {
   "cell_type": "code",
   "execution_count": 20,
   "id": "5a0f78cb",
   "metadata": {},
   "outputs": [
    {
     "data": {
      "image/png": "[encoded data removed]",
      "text/plain": [
       "<Figure size 432x288 with 1 Axes>"
      ]
     },
     "metadata": {
      "needs_background": "light"
     },
     "output_type": "display_data"
    }
   ],
   "source": [
    "#creating a function called plotter that returns a chart \n",
    "def plotter(col):\n",
    "    plt.hist(col,width=0.2, color='g')\n",
    "plotter(df['gender'])"
   ]
  },
  {
   "cell_type": "code",
   "execution_count": 21,
   "id": "7682a55d",
   "metadata": {},
   "outputs": [
    {
     "data": {
      "text/plain": [
       "0    88208\n",
       "1    22319\n",
       "Name: present, dtype: int64"
      ]
     },
     "execution_count": 21,
     "metadata": {},
     "output_type": "execute_result"
    }
   ],
   "source": [
    "df['present'].value_counts()"
   ]
  },
  {
   "cell_type": "code",
   "execution_count": 22,
   "id": "d7edf4dd",
   "metadata": {},
   "outputs": [
    {
     "data": {
      "text/plain": [
       "gender  present\n",
       "F       0          57246\n",
       "        1          14594\n",
       "M       0          30962\n",
       "        1           7725\n",
       "Name: present, dtype: int64"
      ]
     },
     "execution_count": 22,
     "metadata": {},
     "output_type": "execute_result"
    }
   ],
   "source": [
    "df.groupby('gender')['present'].value_counts()"
   ]
  },
  {
   "cell_type": "code",
   "execution_count": 23,
   "id": "ab49625f",
   "metadata": {},
   "outputs": [
    {
     "data": {
      "text/plain": [
       "gender  present\n",
       "F       0          51.793679\n",
       "        1          13.204013\n",
       "M       0          28.013065\n",
       "        1           6.989242\n",
       "Name: present, dtype: float64"
      ]
     },
     "execution_count": 23,
     "metadata": {},
     "output_type": "execute_result"
    },
    {
     "data": {
      "image/png": "[encoded data removed]",
      "text/plain": [
       "<Figure size 432x288 with 1 Axes>"
      ]
     },
     "metadata": {
      "needs_background": "light"
     },
     "output_type": "display_data"
    }
   ],
   "source": [
    "(df.groupby('gender')['present'].value_counts()*100/110527).plot(kind='bar', color=['g','r'])\n",
    "plt.xlabel('GENDER')\n",
    "plt.ylabel('ATTENDANCE')\n",
    "plt.title(\"ATTENDANCE BY GENDER\");\n",
    "df.groupby('gender')['present'].value_counts()*100/110527"
   ]
  },
  {
   "cell_type": "code",
   "execution_count": 24,
   "id": "d2148924",
   "metadata": {},
   "outputs": [
    {
     "name": "stderr",
     "output_type": "stream",
     "text": [
      "C:\\Anaconda\\lib\\site-packages\\seaborn\\_decorators.py:36: FutureWarning: Pass the following variables as keyword args: x, y. From version 0.12, the only valid positional argument will be `data`, and passing other arguments without an explicit keyword will result in an error or misinterpretation.\n",
      "  warnings.warn(\n"
     ]
    },
    {
     "data": {
      "image/png": "[encoded data removed]",
      "text/plain": [
       "<Figure size 432x288 with 1 Axes>"
      ]
     },
     "metadata": {
      "needs_background": "light"
     },
     "output_type": "display_data"
    }
   ],
   "source": [
    "x= df['gender']\n",
    "y=df['present']\n",
    "sns.violinplot(x,y, data=df);"
   ]
  },
  {
   "cell_type": "markdown",
   "id": "1b0bc487",
   "metadata": {},
   "source": [
    "## Insights\n",
    "- By the use of groupby and value_counts, It was found that about 71840 Female patients and 38687 males were scheduled for medical appointments\n",
    "- consequently, more females were present for medical appointments with 14594 attendees and 7725 male attendees\n",
    "- By calculating the percentage of total, a higher percentage of female patients showed up for medical appointments compared to males with  14594(13.2% of total)females and 7720(6% of total)males attending their appointments\n",
    "- Also, based on the chart above, the attendance of females is much higher as demonstrated by the red bar \n",
    "- By the violinplot, there are more absentees for both gender"
   ]
  },
  {
   "cell_type": "markdown",
   "id": "8f2953bf",
   "metadata": {},
   "source": [
    "### Research Question 2: Does the difference between the scheduled day and appointment day influence if a patient will show up for their appointment or Not?"
   ]
  },
  {
   "cell_type": "code",
   "execution_count": 25,
   "id": "4aaf134d",
   "metadata": {},
   "outputs": [
    {
     "data": {
      "text/html": [
       "<div>\n",
       "<style scoped>\n",
       "    .dataframe tbody tr th:only-of-type {\n",
       "        vertical-align: middle;\n",
       "    }\n",
       "\n",
       "    .dataframe tbody tr th {\n",
       "        vertical-align: top;\n",
       "    }\n",
       "\n",
       "    .dataframe thead th {\n",
       "        text-align: right;\n",
       "    }\n",
       "</style>\n",
       "<table border=\"1\" class=\"dataframe\">\n",
       "  <thead>\n",
       "    <tr style=\"text-align: right;\">\n",
       "      <th></th>\n",
       "      <th>gender</th>\n",
       "      <th>scheduledday</th>\n",
       "      <th>appointmentday</th>\n",
       "      <th>age</th>\n",
       "      <th>neighbourhood</th>\n",
       "      <th>scholarship</th>\n",
       "      <th>hypertension</th>\n",
       "      <th>diabetes</th>\n",
       "      <th>alcoholism</th>\n",
       "      <th>handicap</th>\n",
       "      <th>sms_received</th>\n",
       "      <th>present</th>\n",
       "      <th>datedif</th>\n",
       "    </tr>\n",
       "  </thead>\n",
       "  <tbody>\n",
       "    <tr>\n",
       "      <th>0</th>\n",
       "      <td>F</td>\n",
       "      <td>2016-04-29</td>\n",
       "      <td>2016-04-29</td>\n",
       "      <td>62</td>\n",
       "      <td>39</td>\n",
       "      <td>0</td>\n",
       "      <td>1</td>\n",
       "      <td>0</td>\n",
       "      <td>0</td>\n",
       "      <td>0</td>\n",
       "      <td>0</td>\n",
       "      <td>0</td>\n",
       "      <td>0</td>\n",
       "    </tr>\n",
       "    <tr>\n",
       "      <th>1</th>\n",
       "      <td>M</td>\n",
       "      <td>2016-04-29</td>\n",
       "      <td>2016-04-29</td>\n",
       "      <td>56</td>\n",
       "      <td>39</td>\n",
       "      <td>0</td>\n",
       "      <td>0</td>\n",
       "      <td>0</td>\n",
       "      <td>0</td>\n",
       "      <td>0</td>\n",
       "      <td>0</td>\n",
       "      <td>0</td>\n",
       "      <td>0</td>\n",
       "    </tr>\n",
       "    <tr>\n",
       "      <th>2</th>\n",
       "      <td>F</td>\n",
       "      <td>2016-04-29</td>\n",
       "      <td>2016-04-29</td>\n",
       "      <td>62</td>\n",
       "      <td>45</td>\n",
       "      <td>0</td>\n",
       "      <td>0</td>\n",
       "      <td>0</td>\n",
       "      <td>0</td>\n",
       "      <td>0</td>\n",
       "      <td>0</td>\n",
       "      <td>0</td>\n",
       "      <td>0</td>\n",
       "    </tr>\n",
       "    <tr>\n",
       "      <th>3</th>\n",
       "      <td>F</td>\n",
       "      <td>2016-04-29</td>\n",
       "      <td>2016-04-29</td>\n",
       "      <td>8</td>\n",
       "      <td>54</td>\n",
       "      <td>0</td>\n",
       "      <td>0</td>\n",
       "      <td>0</td>\n",
       "      <td>0</td>\n",
       "      <td>0</td>\n",
       "      <td>0</td>\n",
       "      <td>0</td>\n",
       "      <td>0</td>\n",
       "    </tr>\n",
       "    <tr>\n",
       "      <th>4</th>\n",
       "      <td>F</td>\n",
       "      <td>2016-04-29</td>\n",
       "      <td>2016-04-29</td>\n",
       "      <td>56</td>\n",
       "      <td>39</td>\n",
       "      <td>0</td>\n",
       "      <td>1</td>\n",
       "      <td>1</td>\n",
       "      <td>0</td>\n",
       "      <td>0</td>\n",
       "      <td>0</td>\n",
       "      <td>0</td>\n",
       "      <td>0</td>\n",
       "    </tr>\n",
       "  </tbody>\n",
       "</table>\n",
       "</div>"
      ],
      "text/plain": [
       "  gender scheduledday appointmentday  age  neighbourhood  scholarship  \\\n",
       "0      F   2016-04-29     2016-04-29   62             39            0   \n",
       "1      M   2016-04-29     2016-04-29   56             39            0   \n",
       "2      F   2016-04-29     2016-04-29   62             45            0   \n",
       "3      F   2016-04-29     2016-04-29    8             54            0   \n",
       "4      F   2016-04-29     2016-04-29   56             39            0   \n",
       "\n",
       "   hypertension  diabetes  alcoholism  handicap  sms_received  present  \\\n",
       "0             1         0           0         0             0        0   \n",
       "1             0         0           0         0             0        0   \n",
       "2             0         0           0         0             0        0   \n",
       "3             0         0           0         0             0        0   \n",
       "4             1         1           0         0             0        0   \n",
       "\n",
       "   datedif  \n",
       "0        0  \n",
       "1        0  \n",
       "2        0  \n",
       "3        0  \n",
       "4        0  "
      ]
     },
     "execution_count": 25,
     "metadata": {},
     "output_type": "execute_result"
    }
   ],
   "source": [
    "#creating a new column from difference between the scheduled day and the day of appointment\n",
    "df['datedif']= (df['appointmentday']-df['scheduledday']).dt.days\n",
    "df.head(5)"
   ]
  },
  {
   "cell_type": "code",
   "execution_count": 26,
   "id": "61799fbd",
   "metadata": {},
   "outputs": [],
   "source": [
    "#finding the mean attendance of patients with relatively short duration \n",
    "#and those with longer duration between their appointments\n",
    "df['datedif'].median()\n",
    "short_duration= df.query('datedif<4.0')\n",
    "long_duration= df.query('datedif>4.0')\n",
    "\n",
    "mean_attendance_low= short_duration['present'].mean()\n",
    "mean_attendance_high= long_duration['present'].mean()"
   ]
  },
  {
   "cell_type": "code",
   "execution_count": 27,
   "id": "77c47621",
   "metadata": {},
   "outputs": [
    {
     "data": {
      "image/png": "[encoded data removed]",
      "text/plain": [
       "<Figure size 432x288 with 1 Axes>"
      ]
     },
     "metadata": {
      "needs_background": "light"
     },
     "output_type": "display_data"
    }
   ],
   "source": [
    "#visualizing the average attendance by duration\n",
    "locations=[1,2]\n",
    "heights=[mean_attendance_low, mean_attendance_high]\n",
    "labels= ['mean_short', 'mean_long']\n",
    "plt.bar(locations, heights, tick_label= labels)\n",
    "plt.title('AVERAGE ATTENDANCE BY DURATION BETWEEN APPOINTMENT DATE AND SCHEDULED DATE')\n",
    "plt.ylabel('ATTENDANCE')\n",
    "plt.xlabel('DATE DIFFERENCE');"
   ]
  },
  {
   "cell_type": "code",
   "execution_count": 28,
   "id": "497c7866",
   "metadata": {},
   "outputs": [
    {
     "data": {
      "text/plain": [
       "(0    48087\n",
       " 1     5156\n",
       " Name: present, dtype: int64,\n",
       " 0    36062\n",
       " 1    15932\n",
       " Name: present, dtype: int64)"
      ]
     },
     "execution_count": 28,
     "metadata": {},
     "output_type": "execute_result"
    }
   ],
   "source": [
    "#computing the attendance of patients with short duration of appointments and those with longer durations\n",
    "df.query('datedif<4.0')['present'].value_counts(),df.query('datedif>4.0')['present'].value_counts()"
   ]
  },
  {
   "cell_type": "markdown",
   "id": "c4aefb78",
   "metadata": {},
   "source": [
    "## Insights\n",
    "- Those with shorter duration between their appointments could not attend their appointment. perhaps because they didn't have enough time to plan\n",
    "- In contrast, those with longer duration recorded a much higher rate or attendance "
   ]
  },
  {
   "cell_type": "markdown",
   "id": "7c7fdfcb",
   "metadata": {},
   "source": [
    "### Research Question 3. Does receiving SMS messages bring about more attendance to medical appointments?"
   ]
  },
  {
   "cell_type": "code",
   "execution_count": 29,
   "id": "6c398d7b",
   "metadata": {
    "scrolled": true
   },
   "outputs": [
    {
     "data": {
      "text/plain": [
       "sms_received  present\n",
       "0             0          62510\n",
       "              1          12535\n",
       "1             0          25698\n",
       "              1           9784\n",
       "Name: present, dtype: int64"
      ]
     },
     "execution_count": 29,
     "metadata": {},
     "output_type": "execute_result"
    }
   ],
   "source": [
    "#checking for the number of patients that showed uo for their appointments based on sms_recieved\n",
    "df.groupby('sms_received')['present'].value_counts()"
   ]
  },
  {
   "cell_type": "code",
   "execution_count": 30,
   "id": "525f4a4a",
   "metadata": {},
   "outputs": [
    {
     "data": {
      "text/plain": [
       "(0.27574544839637, 0.16703311346525418)"
      ]
     },
     "execution_count": 30,
     "metadata": {},
     "output_type": "execute_result"
    }
   ],
   "source": [
    "no_sms= df.query('sms_received==0')\n",
    "sms= df.query('sms_received==1')\n",
    "\n",
    "no_sms_mean= no_sms['present'].mean()\n",
    "sms_mean= sms['present'].mean()\n",
    "sms_mean, no_sms_mean"
   ]
  },
  {
   "cell_type": "code",
   "execution_count": 31,
   "id": "f04786b8",
   "metadata": {},
   "outputs": [
    {
     "data": {
      "image/png": "[encoded data removed]",
      "text/plain": [
       "<Figure size 432x288 with 1 Axes>"
      ]
     },
     "metadata": {
      "needs_background": "light"
     },
     "output_type": "display_data"
    }
   ],
   "source": [
    "locations=[1,2]\n",
    "heights=[no_sms_mean, sms_mean]\n",
    "labels= ['no_sms_received', 'sms_received']\n",
    "plt.bar(locations, heights, tick_label= labels, color= ['r','g'])\n",
    "plt.title('AVERAGE ATTENDANCE BASED ON SMS RECEIVED')\n",
    "#plt.ylabel('ATTENDANCE')\n",
    "plt.xlabel('SMS ');"
   ]
  },
  {
   "cell_type": "markdown",
   "id": "a1b1d3a6",
   "metadata": {},
   "source": [
    "## Insights\n",
    "- 74863 patients did not received sms messages. out of these, only 12535 showed up for their appointments while 62510 did not\n",
    "- 35482 patients received sms messages. out of these, 9784 showed up for their appointments while 25698 did not\n",
    "- On an average, A higher proportion of people who received SMS messages showed up for their appointments"
   ]
  },
  {
   "cell_type": "markdown",
   "id": "a9bb0f63",
   "metadata": {},
   "source": [
    "## Research Question 4: Which age range come for their appointments the most?\n",
    "- Younger people(<40years)? or Older people(>40years)?"
   ]
  },
  {
   "cell_type": "code",
   "execution_count": 32,
   "id": "6eb5d911",
   "metadata": {},
   "outputs": [
    {
     "data": {
      "text/plain": [
       "0      3540\n",
       "1      2273\n",
       "52     1746\n",
       "49     1652\n",
       "53     1651\n",
       "       ... \n",
       "98        6\n",
       "115       5\n",
       "100       4\n",
       "102       2\n",
       "99        1\n",
       "Name: age, Length: 103, dtype: int64"
      ]
     },
     "execution_count": 32,
     "metadata": {},
     "output_type": "execute_result"
    }
   ],
   "source": [
    "df['age'].value_counts()"
   ]
  },
  {
   "cell_type": "code",
   "execution_count": 33,
   "id": "53f5fd0a",
   "metadata": {},
   "outputs": [
    {
     "data": {
      "text/plain": [
       "(0    77.387779\n",
       " 1    22.612221\n",
       " Name: present, dtype: float64,\n",
       " 0    82.751841\n",
       " 1    17.248159\n",
       " Name: present, dtype: float64)"
      ]
     },
     "execution_count": 33,
     "metadata": {},
     "output_type": "execute_result"
    }
   ],
   "source": [
    "# Taking age 40 as the middle age between the young and the old\n",
    "young= df.query('age<=40')['present'].value_counts()*100/60684\n",
    "old= df.query('age>40')['present'].value_counts()*100/49843\n",
    "young, old"
   ]
  },
  {
   "cell_type": "code",
   "execution_count": 34,
   "id": "c07892c3",
   "metadata": {},
   "outputs": [
    {
     "data": {
      "image/png": "[encoded data removed]",
      "text/plain": [
       "<Figure size 432x288 with 1 Axes>"
      ]
     },
     "metadata": {
      "needs_background": "light"
     },
     "output_type": "display_data"
    }
   ],
   "source": [
    "plt.bar([1,2],young, width=0.95, label= 'Young', color='r' )\n",
    "plt.bar([3,4],old, width=0.95, label= 'old', color='g' )\n",
    "plt.legend()\n",
    "plt.xlabel('HEIGHTS')\n",
    "plt.ylabel('AGE')\n",
    "plt.title('% NO SHOW BASED ON AGE');\n"
   ]
  },
  {
   "cell_type": "markdown",
   "id": "b317d071",
   "metadata": {},
   "source": [
    "### findings:\n",
    "- More young people were scheduled for appointments\n",
    "- A higher percentage of young people(<=40years) showed up for their medical appointments(22.6%) while only 17.25% percent of old people(>40years)"
   ]
  },
  {
   "cell_type": "code",
   "execution_count": null,
   "id": "4478e551",
   "metadata": {},
   "outputs": [],
   "source": []
  },
  {
   "cell_type": "markdown",
   "id": "87b33a26",
   "metadata": {},
   "source": [
    "### Research Question 5: Does being placed on scholarship encourage attendance to medical appointments?"
   ]
  },
  {
   "cell_type": "code",
   "execution_count": 35,
   "id": "e1999065",
   "metadata": {
    "scrolled": false
   },
   "outputs": [
    {
     "data": {
      "text/plain": [
       "scholarship  present\n",
       "0            0          79925\n",
       "             1          19741\n",
       "1            0           8283\n",
       "             1           2578\n",
       "Name: present, dtype: int64"
      ]
     },
     "execution_count": 35,
     "metadata": {},
     "output_type": "execute_result"
    }
   ],
   "source": [
    "df.groupby('scholarship')['present'].value_counts()"
   ]
  },
  {
   "cell_type": "code",
   "execution_count": 36,
   "id": "db9a5014",
   "metadata": {},
   "outputs": [
    {
     "data": {
      "text/plain": [
       "(0.2373630420771568, 0.19807155900708365)"
      ]
     },
     "execution_count": 36,
     "metadata": {},
     "output_type": "execute_result"
    }
   ],
   "source": [
    "no_scholarship= df.query('scholarship==0')\n",
    "scholarship= df.query('scholarship==1')\n",
    "\n",
    "no_scholarship_mean= no_scholarship['present'].mean()\n",
    "scholarship_mean= scholarship['present'].mean()\n",
    "scholarship_mean, no_scholarship_mean"
   ]
  },
  {
   "cell_type": "code",
   "execution_count": 37,
   "id": "8f5a0dc5",
   "metadata": {},
   "outputs": [
    {
     "data": {
      "image/png": "[encoded data removed]",
      "text/plain": [
       "<Figure size 432x288 with 1 Axes>"
      ]
     },
     "metadata": {
      "needs_background": "light"
     },
     "output_type": "display_data"
    }
   ],
   "source": [
    "locations=[1,2]\n",
    "heights=[no_sms_mean, sms_mean]\n",
    "labels= ['no_scholarship', 'scholarship']\n",
    "plt.bar(locations, heights, tick_label= labels, color= ['r','g'])\n",
    "plt.title('AVERAGE ATTENDANCE BASED ON SCHOLARSHIP')\n",
    "plt.ylabel('MEAN ATTENDANCE')\n",
    "plt.xlabel('SCHOLARSHIP');"
   ]
  },
  {
   "cell_type": "markdown",
   "id": "b86bfbef",
   "metadata": {},
   "source": [
    "### Insights: \n",
    "Just a little number of patients received scholarship. however, more people who received scholarships showed up for their medical appointments as shown by the average attendance "
   ]
  },
  {
   "cell_type": "markdown",
   "id": "f301508a",
   "metadata": {},
   "source": [
    "<a id='conclusions'></a>\n",
    "## Conclusions\n",
    "- majority of patients did not show up for their appointments. There are various factors that might have contributed to this:\n",
    "- Most patients that were scheduled for medical appointments are females and a higher percentage of these females showed up for their appointments compared to males\n",
    "- A high difference between date of appointment and scheduled date showed higher attendance compared to low difference.\n",
    "- SMS seems to encourage attendance\n",
    "- More young people showed up for their medical appointments\n",
    "- Scholarship seems to encourage attendance"
   ]
  },
  {
   "cell_type": "markdown",
   "id": "854e5247",
   "metadata": {},
   "source": [
    "<a id='Model'></a>\n",
    "### Model Building"
   ]
  },
  {
   "cell_type": "markdown",
   "id": "184948a9",
   "metadata": {},
   "source": [
    "Using logistic regression, I will now build a model which predict if a patient will show up for their medical appointment"
   ]
  },
  {
   "cell_type": "code",
   "execution_count": 38,
   "id": "24f64d74",
   "metadata": {},
   "outputs": [],
   "source": [
    "# for this, i will drop"
   ]
  },
  {
   "cell_type": "code",
   "execution_count": 39,
   "id": "fe7de6f1",
   "metadata": {},
   "outputs": [
    {
     "data": {
      "text/plain": [
       "gender            category\n",
       "scheduledday      category\n",
       "appointmentday    category\n",
       "age                  int64\n",
       "neighbourhood         int8\n",
       "scholarship          int64\n",
       "hypertension         int64\n",
       "diabetes             int64\n",
       "alcoholism           int64\n",
       "handicap             int64\n",
       "sms_received         int64\n",
       "present              int64\n",
       "datedif              int64\n",
       "dtype: object"
      ]
     },
     "execution_count": 39,
     "metadata": {},
     "output_type": "execute_result"
    }
   ],
   "source": [
    "# #encoding the gender column  as well as  the datetime columns\n",
    "\n",
    "df['gender']= df['gender'].astype('category')\n",
    "df['scheduledday']= df['scheduledday'].astype('category')\n",
    "df['appointmentday']= df['appointmentday'].astype('category')\n",
    "df.dtypes"
   ]
  },
  {
   "cell_type": "code",
   "execution_count": 40,
   "id": "4a666148",
   "metadata": {},
   "outputs": [],
   "source": [
    "df[\"gender\"]= df['gender'].cat.codes\n",
    "df[\"scheduledday\"]= df['scheduledday'].cat.codes\n",
    "df[\"appointmentday\"]= df['appointmentday'].cat.codes"
   ]
  },
  {
   "cell_type": "code",
   "execution_count": 41,
   "id": "62885bd2",
   "metadata": {},
   "outputs": [],
   "source": [
    "x=df.drop('present', axis= 1)\n",
    "y= df['present']"
   ]
  },
  {
   "cell_type": "code",
   "execution_count": 42,
   "id": "131145b2",
   "metadata": {},
   "outputs": [],
   "source": [
    "x_train, x_val, y_train,y_val= train_test_split(x,y, train_size=0.65)"
   ]
  },
  {
   "cell_type": "code",
   "execution_count": 43,
   "id": "89ac01c5",
   "metadata": {},
   "outputs": [
    {
     "name": "stdout",
     "output_type": "stream",
     "text": [
      "(71842, 12)\n",
      "(38685, 12)\n",
      "(71842,)\n",
      "(38685,)\n"
     ]
    }
   ],
   "source": [
    "print(x_train.shape)\n",
    "print(x_val.shape)\n",
    "print(y_train.shape)\n",
    "print(y_val.shape)"
   ]
  },
  {
   "cell_type": "code",
   "execution_count": 44,
   "id": "d544abc6",
   "metadata": {},
   "outputs": [],
   "source": [
    "lr= LogisticRegression()"
   ]
  },
  {
   "cell_type": "code",
   "execution_count": 45,
   "id": "63e4b6d3",
   "metadata": {},
   "outputs": [
    {
     "name": "stderr",
     "output_type": "stream",
     "text": [
      "C:\\Anaconda\\lib\\site-packages\\sklearn\\linear_model\\_logistic.py:763: ConvergenceWarning: lbfgs failed to converge (status=1):\n",
      "STOP: TOTAL NO. of ITERATIONS REACHED LIMIT.\n",
      "\n",
      "Increase the number of iterations (max_iter) or scale the data as shown in:\n",
      "    https://scikit-learn.org/stable/modules/preprocessing.html\n",
      "Please also refer to the documentation for alternative solver options:\n",
      "    https://scikit-learn.org/stable/modules/linear_model.html#logistic-regression\n",
      "  n_iter_i = _check_optimize_result(\n"
     ]
    },
    {
     "data": {
      "text/plain": [
       "LogisticRegression()"
      ]
     },
     "execution_count": 45,
     "metadata": {},
     "output_type": "execute_result"
    }
   ],
   "source": [
    "#fitting the model\n",
    "lr.fit(x_train, y_train)"
   ]
  },
  {
   "cell_type": "code",
   "execution_count": 46,
   "id": "96484bcb",
   "metadata": {},
   "outputs": [],
   "source": [
    "y_pred= lr.predict(x_val)"
   ]
  },
  {
   "cell_type": "code",
   "execution_count": 47,
   "id": "fe26ff62",
   "metadata": {},
   "outputs": [
    {
     "data": {
      "text/plain": [
       "array([0, 0, 0, ..., 0, 0, 0], dtype=int64)"
      ]
     },
     "execution_count": 47,
     "metadata": {},
     "output_type": "execute_result"
    }
   ],
   "source": [
    "y_pred"
   ]
  },
  {
   "cell_type": "code",
   "execution_count": 48,
   "id": "f75a2cd8",
   "metadata": {},
   "outputs": [
    {
     "data": {
      "text/plain": [
       "0.7930981000387747"
      ]
     },
     "execution_count": 48,
     "metadata": {},
     "output_type": "execute_result"
    }
   ],
   "source": [
    "lr.score(x_val, y_val)"
   ]
  },
  {
   "cell_type": "markdown",
   "id": "b712eb87",
   "metadata": {},
   "source": [
    "The model has 79% accuracy which is not so good but still fair being my first model. I have definitely learnt a lot from doing this."
   ]
  },
  {
   "cell_type": "code",
   "execution_count": 53,
   "id": "8cf761ff",
   "metadata": {},
   "outputs": [
    {
     "data": {
      "text/plain": [
       "array([[30562,  7755],\n",
       "       [  249,   119]], dtype=int64)"
      ]
     },
     "execution_count": 53,
     "metadata": {},
     "output_type": "execute_result"
    }
   ],
   "source": [
    "# using confusion matrix to check my predictions\n",
    "confusion_matrix(y_pred, y_val)"
   ]
  },
  {
   "cell_type": "code",
   "execution_count": 54,
   "id": "f7633fbd",
   "metadata": {},
   "outputs": [],
   "source": [
    "#saving model to disk using pickle incase of deployment\n",
    "pickle.dump(lr, open('model.pkl', 'wb'))"
   ]
  },
  {
   "cell_type": "code",
   "execution_count": 51,
   "id": "ec5d199f",
   "metadata": {},
   "outputs": [
    {
     "name": "stdout",
     "output_type": "stream",
     "text": [
      "[0]\n"
     ]
    }
   ],
   "source": [
    "# loading model and making a prediction\n",
    "model= pickle.load(open('model.pkl','rb'))\n",
    "print(model.predict([[0,109,26,22,25,1,1,0,0,0,1,1]]))"
   ]
  },
  {
   "cell_type": "markdown",
   "id": "dba30f2d",
   "metadata": {},
   "source": [
    "### Final Conclusion\n",
    "- model has been built and serialized into a pickle file and so can be further deployed using flask, streamlit, etc(might come back to this later)\n",
    "- The insights generated can also be used to make decisions and drive business forward\n"
   ]
  },
  {
   "cell_type": "code",
   "execution_count": null,
   "id": "a8c7b409",
   "metadata": {},
   "outputs": [],
   "source": []
  }
 ],
 "metadata": {
  "kernelspec": {
   "display_name": "Python 3",
   "language": "python",
   "name": "python3"
  },
  "language_info": {
   "codemirror_mode": {
    "name": "ipython",
    "version": 3
   },
   "file_extension": ".py",
   "mimetype": "text/x-python",
   "name": "python",
   "nbconvert_exporter": "python",
   "pygments_lexer": "ipython3",
   "version": "3.8.8"
  },
  "widgets": {
   "application/vnd.jupyter.widget-state+json": {
    "state": {},
    "version_major": 2,
    "version_minor": 0
   }
  }
 },
 "nbformat": 4,
 "nbformat_minor": 5
}
